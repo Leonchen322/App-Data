{
 "cells": [
  {
   "cell_type": "markdown",
   "metadata": {},
   "source": [
    "# Title\n",
    "\n",
    "This project is about analyzing data on the engagement of in app advertisements on our Android and IOS mobile apps in the Google Play and App Stores.\n",
    "\n",
    "Our goal here is to help our developers understand the type of applications that will attract more users."
   ]
  },
  {
   "cell_type": "code",
   "execution_count": 1,
   "metadata": {
    "collapsed": false
   },
   "outputs": [
    {
     "name": "stdout",
     "output_type": "stream",
     "text": [
      "['id', 'track_name', 'size_bytes', 'currency', 'price', 'rating_count_tot', 'rating_count_ver', 'user_rating', 'user_rating_ver', 'ver', 'cont_rating', 'prime_genre', 'sup_devices.num', 'ipadSc_urls.num', 'lang.num', 'vpp_lic']\n",
      "\n",
      "\n",
      "['284882215', 'Facebook', '389879808', 'USD', '0.0', '2974676', '212', '3.5', '3.5', '95.0', '4+', 'Social Networking', '37', '1', '29', '1']\n",
      "\n",
      "\n",
      "['389801252', 'Instagram', '113954816', 'USD', '0.0', '2161558', '1289', '4.5', '4.0', '10.23', '12+', 'Photo & Video', '37', '0', '29', '1']\n",
      "\n",
      "\n",
      "['529479190', 'Clash of Clans', '116476928', 'USD', '0.0', '2130805', '579', '4.5', '4.5', '9.24.12', '9+', 'Games', '38', '5', '18', '1']\n",
      "\n",
      "\n",
      "['420009108', 'Temple Run', '65921024', 'USD', '0.0', '1724546', '3842', '4.5', '4.0', '1.6.2', '9+', 'Games', '40', '5', '1', '1']\n",
      "\n",
      "\n",
      "Number of rows: 7198\n",
      "Number of columns: 16\n",
      "\n",
      "\n",
      "['App', 'Category', 'Rating', 'Reviews', 'Size', 'Installs', 'Type', 'Price', 'Content Rating', 'Genres', 'Last Updated', 'Current Ver', 'Android Ver']\n",
      "\n",
      "\n",
      "['Photo Editor & Candy Camera & Grid & ScrapBook', 'ART_AND_DESIGN', '4.1', '159', '19M', '10,000+', 'Free', '0', 'Everyone', 'Art & Design', 'January 7, 2018', '1.0.0', '4.0.3 and up']\n",
      "\n",
      "\n",
      "['Coloring book moana', 'ART_AND_DESIGN', '3.9', '967', '14M', '500,000+', 'Free', '0', 'Everyone', 'Art & Design;Pretend Play', 'January 15, 2018', '2.0.0', '4.0.3 and up']\n",
      "\n",
      "\n",
      "['U Launcher Lite – FREE Live Cool Themes, Hide Apps', 'ART_AND_DESIGN', '4.7', '87510', '8.7M', '5,000,000+', 'Free', '0', 'Everyone', 'Art & Design', 'August 1, 2018', '1.2.4', '4.0.3 and up']\n",
      "\n",
      "\n",
      "['Sketch - Draw & Paint', 'ART_AND_DESIGN', '4.5', '215644', '25M', '50,000,000+', 'Free', '0', 'Teen', 'Art & Design', 'June 8, 2018', 'Varies with device', '4.2 and up']\n",
      "\n",
      "\n",
      "Number of rows: 10842\n",
      "Number of columns: 13\n"
     ]
    }
   ],
   "source": [
    "from csv import reader\n",
    "\n",
    "def explore_data(dataset, start, end, rows_and_columns=False):\n",
    "    dataset_slice = dataset[start:end]    \n",
    "    for row in dataset_slice:\n",
    "        print(row)\n",
    "        print('\\n') # adds a new (empty) line after each row\n",
    "\n",
    "    if rows_and_columns:\n",
    "        print('Number of rows:', len(dataset))\n",
    "        print('Number of columns:', len(dataset[0]))\n",
    "\n",
    "opened_file_apple = open('AppleStore.csv')\n",
    "apple_read = reader(opened_file_apple)\n",
    "app_data_apple = list(apple_read)\n",
    "\n",
    "opened_file_android = open('googleplaystore.csv')\n",
    "android_read = reader(opened_file_android)\n",
    "app_data_android = list(android_read)\n",
    "\n",
    "explore_data(app_data_apple, 0, 5, True )\n",
    "print('\\n')\n",
    "explore_data(app_data_android, 0, 5, True)"
   ]
  },
  {
   "cell_type": "markdown",
   "metadata": {},
   "source": [
    "# Potential Columns\n",
    "\n",
    "* For the App Store applications (IOS) we see that potential columns that can aid us in our analysis are \n",
    "\n",
    " 1. Price\n",
    " 2. Rating_count_tot\n",
    " 3. rating_count_ver\n",
    " 4. user_rating\n",
    " 5. user_rating_ver\n",
    " 6. sup_devices.num\n",
    " 7. prime_genre\n",
    " ---\n",
    "* For the Google Play Store applications (Android) we see potential columns include\n",
    "\n",
    " 1. Ratings\n",
    " 2. Reviews\n",
    " 3. Installs\n",
    " 4. Price\n",
    " 5. Type\n",
    " 6. Content Rating\n",
    " 7. Genres"
   ]
  },
  {
   "cell_type": "markdown",
   "metadata": {},
   "source": [
    "# Data Cleaning\n",
    "\n",
    "Below we will clean up the data before starting our analysis. We will be performing the following tasks:\n",
    "\n",
    "* Detect and correct/remove inaccurate data\n",
    "* Detect and remove duplicate data\n",
    "* Remove Non-English and paid applications as our company only build free apps toward an English speaking audience."
   ]
  },
  {
   "cell_type": "code",
   "execution_count": 2,
   "metadata": {
    "collapsed": false
   },
   "outputs": [],
   "source": [
    "# First we detect and remove inaccurate data.\n",
    "\n",
    "# There happens to be a row that has a missing category column\n",
    "# and so all the entries have been shifted left, causing inaccurate \n",
    "# data. Let's remove this one (row number 10473)"
   ]
  },
  {
   "cell_type": "code",
   "execution_count": 3,
   "metadata": {
    "collapsed": false
   },
   "outputs": [
    {
     "name": "stdout",
     "output_type": "stream",
     "text": [
      "[['Life Made WI-Fi Touchscreen Photo Frame', '1.9', '19', '3.0M', '1,000+', 'Free', '0', 'Everyone', '', 'February 11, 2018', '1.0.19', '4.0 and up']]\n"
     ]
    }
   ],
   "source": [
    "print([app_data_android[10473]])"
   ]
  },
  {
   "cell_type": "code",
   "execution_count": 4,
   "metadata": {
    "collapsed": true
   },
   "outputs": [],
   "source": [
    "# Let's remove this row with an error from the data set using\n",
    "# the del command."
   ]
  },
  {
   "cell_type": "code",
   "execution_count": 5,
   "metadata": {
    "collapsed": true
   },
   "outputs": [],
   "source": [
    "del app_data_android[10473]"
   ]
  },
  {
   "cell_type": "code",
   "execution_count": 6,
   "metadata": {
    "collapsed": true
   },
   "outputs": [],
   "source": [
    "# Now let's recheck that row to see if the previous one was\n",
    "# deleted."
   ]
  },
  {
   "cell_type": "code",
   "execution_count": 7,
   "metadata": {
    "collapsed": false
   },
   "outputs": [
    {
     "name": "stdout",
     "output_type": "stream",
     "text": [
      "['osmino Wi-Fi: free WiFi', 'TOOLS', '4.2', '134203', '4.1M', '10,000,000+', 'Free', '0', 'Everyone', 'Tools', 'August 7, 2018', '6.06.14', '4.4 and up']\n"
     ]
    }
   ],
   "source": [
    "print(app_data_android[10473])"
   ]
  },
  {
   "cell_type": "markdown",
   "metadata": {},
   "source": [
    "# Duplicate Entries\n",
    "\n",
    "We need to be careful to not include duplicate data in our dataset when we perform our analysis so let's first check to see if there are such data.\n",
    "\n",
    "\n",
    "We do so by doing the following:\n",
    "\n",
    "* We loop through the data set and create two empty lists, one called **duplicates**, which will hold any application that has their name appear more than once, and **unique** which will hold the first instance the app shows up through the loop.  \n",
    "<br>\n",
    "\n",
    "* We then append the value to the duplicates list if the name of the app is already in the unique list, if not we append it to the unique list as it'd be the first time it appears.  \n",
    "<br>\n",
    "\n",
    "* Finally we'll print out the number of duplicate apps in the dataset as well as print out a couple of examples of duplicate apps ~10."
   ]
  },
  {
   "cell_type": "code",
   "execution_count": 8,
   "metadata": {
    "collapsed": false
   },
   "outputs": [
    {
     "name": "stdout",
     "output_type": "stream",
     "text": [
      "Number of duplicate apps: 1181\n",
      "\n",
      "\n",
      "Examples of duplicate apps: ['Quick PDF Scanner + OCR FREE', 'Box', 'Google My Business', 'ZOOM Cloud Meetings', 'join.me - Simple Meetings', 'Box', 'Zenefits', 'Google Ads', 'Google My Business', 'Slack']\n"
     ]
    }
   ],
   "source": [
    "duplicates = []\n",
    "unique = []\n",
    "\n",
    "for app in app_data_android:\n",
    "    name = app[0]\n",
    "    if name in unique:\n",
    "        duplicates.append(name)\n",
    "    else:\n",
    "        unique.append(name)\n",
    "        \n",
    "print(\"Number of duplicate apps:\", len(duplicates))\n",
    "print(\"\\n\")\n",
    "print(\"Examples of duplicate apps:\", duplicates[:10])"
   ]
  },
  {
   "cell_type": "markdown",
   "metadata": {},
   "source": [
    "# Duplicate Removal Criterion \n",
    "\n",
    "Now that we know there are duplicates in our dataset, let's see if there's any data differences in these duplicates."
   ]
  },
  {
   "cell_type": "code",
   "execution_count": 9,
   "metadata": {
    "collapsed": false
   },
   "outputs": [
    {
     "name": "stdout",
     "output_type": "stream",
     "text": [
      "['Slack', 'BUSINESS', '4.4', '51507', 'Varies with device', '5,000,000+', 'Free', '0', 'Everyone', 'Business', 'August 2, 2018', 'Varies with device', 'Varies with device']\n",
      "['Slack', 'BUSINESS', '4.4', '51507', 'Varies with device', '5,000,000+', 'Free', '0', 'Everyone', 'Business', 'August 2, 2018', 'Varies with device', 'Varies with device']\n",
      "['Slack', 'BUSINESS', '4.4', '51510', 'Varies with device', '5,000,000+', 'Free', '0', 'Everyone', 'Business', 'August 2, 2018', 'Varies with device', 'Varies with device']\n"
     ]
    }
   ],
   "source": [
    "for app in app_data_android:\n",
    "    name = app[0]\n",
    "    if name == 'Slack':\n",
    "        print(app)\n",
    "        "
   ]
  },
  {
   "cell_type": "markdown",
   "metadata": {},
   "source": [
    "As we can see, when we ran the entries for the 'Slack' application in the android dataset, we notice there are 3 times the app appears in the data. The first 2 times appear exactly the same but the third time, the reviews number has increased by 3 from 51507 to 51510.\n",
    "\n",
    "\n",
    "\n",
    "Based on this information, we will choose to remove the oldest duplicates and keep the entry with the highest number of reviews for all duplicate apps."
   ]
  },
  {
   "cell_type": "markdown",
   "metadata": {},
   "source": [
    "# Removal"
   ]
  },
  {
   "cell_type": "markdown",
   "metadata": {},
   "source": [
    "We first start the removal process by creating an empty dictionary called **reviews_max** which will hold the app name as the key and the highest review for that app as it's value.\n",
    "\n",
    "Next, we start sorting through the dataset each app at a time.\n",
    "\n",
    "If the app is appearing for the first time, we will add it to the **reviews_max** dictionary with the corresponding rating as its value.\n",
    "\n",
    "If the app name has already appeared in the **reviews_max** dictionary as a key, but the number of reviews for the current iteration is higher than the one stored in **reviews_max**, then we update the value in the **reviews_max** with what would now be the highest reviews  for that app.\n",
    "\n",
    "We then print out the length of reviews_max to make sure the number of apps equals the total dataset minus the duplicate data.\n",
    "\n",
    "Since we removed an inaccurate row and also exclude the header row which contains the column names, our android dataset has 10840 apps. We found earlier that the android dataset also contains 1181 duplicate entries. Performing a subtraction of (10840 - 1181), we should end up with a **review_max** length of 9659, which is exactly what we get.\n"
   ]
  },
  {
   "cell_type": "code",
   "execution_count": 10,
   "metadata": {
    "collapsed": false
   },
   "outputs": [
    {
     "name": "stdout",
     "output_type": "stream",
     "text": [
      "9659\n"
     ]
    }
   ],
   "source": [
    "reviews_max = {}\n",
    "\n",
    "for app in app_data_android[1:]:\n",
    "    name = app[0]\n",
    "    n_reviews = float(app[3])\n",
    "    if (name in reviews_max) and (reviews_max[name] < n_reviews):\n",
    "        reviews_max[name] = n_reviews\n",
    "    if (name not in reviews_max):\n",
    "        reviews_max[name] = n_reviews\n",
    "\n",
    "print(len(reviews_max))"
   ]
  },
  {
   "cell_type": "markdown",
   "metadata": {},
   "source": [
    "Now that we have the proper applications and their highest reviews, we can update the dataset. Remember that the **reviews_max** dictionary only contained the name of the app and its number of reviews. \n",
    "\n",
    "To get the complete cleaned android data, we first create two lists called **android_clean** and **already_added**.\n",
    "\n",
    "The **android_clean** list will store our new cleaned dataset.\n",
    "\n",
    "The **already_added** list will store the app names to keep track of what apps we have already added. We need this list because there are some apps that have multiple entires with the highest number of reviews, so we will want to avoid adding them again.\n",
    "\n",
    "* We first loop through the complete android dataset (exluding the header) and store the app name and number of reviews in corresponding variables.<br>\n",
    "\n",
    "\n",
    "* We check to see if the number of reviews is equal to the maximum for that app, which we saved in our reviews_max dictionary. If it is, then we check to see if we have already added the name of the app in our **android_clean** dataset.<br>\n",
    "\n",
    "\n",
    "* If we have not added the name in our **android_clean** dataset, we append the app's entire row of information to the **android_clean** dataset, and append the name of the app to the **already_added** to ensure we don't add it again.\n",
    "\n",
    "\n",
    "Once we're finished, we will again check to see the length and make sure it is 9659 and then print out the first 10 apps in our newly updated **android_clean** dataset.\n",
    "\n",
    " "
   ]
  },
  {
   "cell_type": "code",
   "execution_count": 11,
   "metadata": {
    "collapsed": false
   },
   "outputs": [
    {
     "name": "stdout",
     "output_type": "stream",
     "text": [
      "9659\n"
     ]
    },
    {
     "data": {
      "text/plain": [
       "[['Photo Editor & Candy Camera & Grid & ScrapBook',\n",
       "  'ART_AND_DESIGN',\n",
       "  '4.1',\n",
       "  '159',\n",
       "  '19M',\n",
       "  '10,000+',\n",
       "  'Free',\n",
       "  '0',\n",
       "  'Everyone',\n",
       "  'Art & Design',\n",
       "  'January 7, 2018',\n",
       "  '1.0.0',\n",
       "  '4.0.3 and up'],\n",
       " ['U Launcher Lite – FREE Live Cool Themes, Hide Apps',\n",
       "  'ART_AND_DESIGN',\n",
       "  '4.7',\n",
       "  '87510',\n",
       "  '8.7M',\n",
       "  '5,000,000+',\n",
       "  'Free',\n",
       "  '0',\n",
       "  'Everyone',\n",
       "  'Art & Design',\n",
       "  'August 1, 2018',\n",
       "  '1.2.4',\n",
       "  '4.0.3 and up'],\n",
       " ['Sketch - Draw & Paint',\n",
       "  'ART_AND_DESIGN',\n",
       "  '4.5',\n",
       "  '215644',\n",
       "  '25M',\n",
       "  '50,000,000+',\n",
       "  'Free',\n",
       "  '0',\n",
       "  'Teen',\n",
       "  'Art & Design',\n",
       "  'June 8, 2018',\n",
       "  'Varies with device',\n",
       "  '4.2 and up'],\n",
       " ['Pixel Draw - Number Art Coloring Book',\n",
       "  'ART_AND_DESIGN',\n",
       "  '4.3',\n",
       "  '967',\n",
       "  '2.8M',\n",
       "  '100,000+',\n",
       "  'Free',\n",
       "  '0',\n",
       "  'Everyone',\n",
       "  'Art & Design;Creativity',\n",
       "  'June 20, 2018',\n",
       "  '1.1',\n",
       "  '4.4 and up'],\n",
       " ['Paper flowers instructions',\n",
       "  'ART_AND_DESIGN',\n",
       "  '4.4',\n",
       "  '167',\n",
       "  '5.6M',\n",
       "  '50,000+',\n",
       "  'Free',\n",
       "  '0',\n",
       "  'Everyone',\n",
       "  'Art & Design',\n",
       "  'March 26, 2017',\n",
       "  '1.0',\n",
       "  '2.3 and up'],\n",
       " ['Smoke Effect Photo Maker - Smoke Editor',\n",
       "  'ART_AND_DESIGN',\n",
       "  '3.8',\n",
       "  '178',\n",
       "  '19M',\n",
       "  '50,000+',\n",
       "  'Free',\n",
       "  '0',\n",
       "  'Everyone',\n",
       "  'Art & Design',\n",
       "  'April 26, 2018',\n",
       "  '1.1',\n",
       "  '4.0.3 and up'],\n",
       " ['Infinite Painter',\n",
       "  'ART_AND_DESIGN',\n",
       "  '4.1',\n",
       "  '36815',\n",
       "  '29M',\n",
       "  '1,000,000+',\n",
       "  'Free',\n",
       "  '0',\n",
       "  'Everyone',\n",
       "  'Art & Design',\n",
       "  'June 14, 2018',\n",
       "  '6.1.61.1',\n",
       "  '4.2 and up'],\n",
       " ['Garden Coloring Book',\n",
       "  'ART_AND_DESIGN',\n",
       "  '4.4',\n",
       "  '13791',\n",
       "  '33M',\n",
       "  '1,000,000+',\n",
       "  'Free',\n",
       "  '0',\n",
       "  'Everyone',\n",
       "  'Art & Design',\n",
       "  'September 20, 2017',\n",
       "  '2.9.2',\n",
       "  '3.0 and up'],\n",
       " ['Kids Paint Free - Drawing Fun',\n",
       "  'ART_AND_DESIGN',\n",
       "  '4.7',\n",
       "  '121',\n",
       "  '3.1M',\n",
       "  '10,000+',\n",
       "  'Free',\n",
       "  '0',\n",
       "  'Everyone',\n",
       "  'Art & Design;Creativity',\n",
       "  'July 3, 2018',\n",
       "  '2.8',\n",
       "  '4.0.3 and up'],\n",
       " ['Text on Photo - Fonteee',\n",
       "  'ART_AND_DESIGN',\n",
       "  '4.4',\n",
       "  '13880',\n",
       "  '28M',\n",
       "  '1,000,000+',\n",
       "  'Free',\n",
       "  '0',\n",
       "  'Everyone',\n",
       "  'Art & Design',\n",
       "  'October 27, 2017',\n",
       "  '1.0.4',\n",
       "  '4.1 and up']]"
      ]
     },
     "execution_count": 11,
     "metadata": {},
     "output_type": "execute_result"
    }
   ],
   "source": [
    "android_clean = []\n",
    "already_added = []\n",
    "\n",
    "for app in app_data_android[1:]:\n",
    "    name = app[0]\n",
    "    n_reviews = float(app[3])\n",
    "    \n",
    "    if (n_reviews == reviews_max[name]) and (name not in already_added):\n",
    "        android_clean.append(app)\n",
    "        already_added.append(name)\n",
    "        \n",
    "print(len(android_clean))\n",
    "android_clean[:10]"
   ]
  },
  {
   "cell_type": "markdown",
   "metadata": {},
   "source": [
    "Now let's do the same thing for Apple Store applications (IOS)\n"
   ]
  },
  {
   "cell_type": "code",
   "execution_count": 12,
   "metadata": {
    "collapsed": false
   },
   "outputs": [
    {
     "name": "stdout",
     "output_type": "stream",
     "text": [
      "Number of duplicate apps: 0\n"
     ]
    }
   ],
   "source": [
    "duplicates_apple = []\n",
    "unique_apple = []\n",
    "\n",
    "for app in app_data_apple[1:]:\n",
    "    name = app[0]\n",
    "    if name in unique_apple:\n",
    "        duplicates_apple.append(name)\n",
    "    else:\n",
    "        unique_apple.append(name)\n",
    "        \n",
    "        \n",
    "print(\"Number of duplicate apps:\", len(duplicates_apple))\n",
    "\n"
   ]
  },
  {
   "cell_type": "markdown",
   "metadata": {},
   "source": [
    "From the code above, we notice that the Apple Store dataset has no duplicate apps and so we'll skip the removal process and move on to the next step in our cleaning."
   ]
  },
  {
   "cell_type": "markdown",
   "metadata": {
    "collapsed": true
   },
   "source": [
    "# Checking for Non-English Apps\n",
    "\n",
    "Now that we have completed the removal of all duplicate apps in our dataset, let's move onto removing the apps that are not in English.\n",
    "\n",
    "We begin this process by first writing a function that will tell us whether an app is detected as English or non-English"
   ]
  },
  {
   "cell_type": "code",
   "execution_count": 13,
   "metadata": {
    "collapsed": false
   },
   "outputs": [
    {
     "name": "stdout",
     "output_type": "stream",
     "text": [
      "True\n",
      "False\n"
     ]
    }
   ],
   "source": [
    "def is_english(application):\n",
    "    for char in application:\n",
    "        if ord(char) > 127:\n",
    "            return False\n",
    "    \n",
    "    return True\n",
    "\n",
    "\n",
    "print(is_english('Instagram'))\n",
    "print(is_english('爱奇艺PPS -《欢乐颂2》电视剧热播'))\n",
    "    "
   ]
  },
  {
   "cell_type": "markdown",
   "metadata": {},
   "source": [
    "From the test above, we can see that **is_english** function is working correctly. We wrote the function by testing each unicode character of the parameter using the integer representing that character. This is done using the **ord** command. If **ord(char)** returns an integer greater than 127, then that character is not an English character and so the function will return False. If we loop the entire parameter and find no character having an integer value greater than 127, then all the characters in that string (app name) are in English."
   ]
  },
  {
   "cell_type": "markdown",
   "metadata": {},
   "source": [
    "Although this is a good start, we know that certain applications might still be in English but have some character(s) with integer values greater than 127. Below are a couple of examples."
   ]
  },
  {
   "cell_type": "code",
   "execution_count": 14,
   "metadata": {
    "collapsed": false
   },
   "outputs": [
    {
     "name": "stdout",
     "output_type": "stream",
     "text": [
      "False\n",
      "False\n"
     ]
    }
   ],
   "source": [
    "print(is_english('Docs To Go™ Free Office Suite'))\n",
    "print(is_english('Instachat 😜'))\n"
   ]
  },
  {
   "cell_type": "markdown",
   "metadata": {},
   "source": [
    "Because of this, it would be more effective if we consider a new condition - to accept up to 3 characters with integer value greater than 127. Doing this would allow up to 3 emoji or other special characters. If we only allow 3 characters, the majority of the application name will still be English and so we should detect it as such."
   ]
  },
  {
   "cell_type": "code",
   "execution_count": 15,
   "metadata": {
    "collapsed": false
   },
   "outputs": [
    {
     "name": "stdout",
     "output_type": "stream",
     "text": [
      "True\n",
      "True\n",
      "False\n"
     ]
    }
   ],
   "source": [
    "def updated_is_english(application):\n",
    "    count = 0\n",
    "    for char in application:\n",
    "        if ord(char) > 127:\n",
    "            count += 1\n",
    "        if count >3:\n",
    "            return False\n",
    "    \n",
    "    return True\n",
    "\n",
    "print(updated_is_english('Docs To Go™ Free Office Suite'))\n",
    "print(updated_is_english('Instachat 😜'))\n",
    "print(updated_is_english('爱奇艺PPS -《欢乐颂2》电视剧热播'))"
   ]
  },
  {
   "cell_type": "markdown",
   "metadata": {},
   "source": [
    "Our **updated_is_english** function now appears to accept the 2 names that were rejected in our previous **is_english** function.\n",
    "\n",
    "\n",
    "Now, let's use the updated function on our IOS and Android datasets and see how many apps (rows) we end up with."
   ]
  },
  {
   "cell_type": "code",
   "execution_count": 16,
   "metadata": {
    "collapsed": false
   },
   "outputs": [
    {
     "name": "stdout",
     "output_type": "stream",
     "text": [
      "After removal of any duplicates and non-English apps, \n",
      "the number of IOS apps is now: 6183\n",
      "\n",
      "\n",
      "After removal of any duplicates and non-English apps, \n",
      "the number of Android apps is now: 9614\n"
     ]
    }
   ],
   "source": [
    "new_ios = []\n",
    "new_android = []\n",
    "\n",
    "for app in app_data_apple[1:]:\n",
    "    name = app[1]\n",
    "    if updated_is_english(name) == True:\n",
    "        new_ios.append(app)\n",
    "\n",
    "    \n",
    "print(\"After removal of any duplicates and non-English apps, \\nthe number of IOS apps is now:\", len(new_ios))\n",
    "\n",
    "for app in android_clean:\n",
    "    name_android = app[0]\n",
    "    if updated_is_english(name_android) == True:\n",
    "        new_android.append(app)\n",
    "        \n",
    "print('\\n')\n",
    "print(\"After removal of any duplicates and non-English apps, \\nthe number of Android apps is now:\", len(new_android))\n",
    "    "
   ]
  },
  {
   "cell_type": "markdown",
   "metadata": {},
   "source": [
    "# Isolating Free Applications\n",
    "\n",
    "Now that we have removed any and all duplicates as well as non-English applications, our last area of focus is on isolating the free apps since our hypothetical company only build apps that are free to download and install. "
   ]
  },
  {
   "cell_type": "code",
   "execution_count": 17,
   "metadata": {
    "collapsed": false
   },
   "outputs": [
    {
     "name": "stdout",
     "output_type": "stream",
     "text": [
      "Number of free IOS apps: 3222\n",
      "Number of free Android apps: 8864\n"
     ]
    }
   ],
   "source": [
    "free_ios = []\n",
    "free_android = []\n",
    "\n",
    "for app in new_ios:\n",
    "    price = app[4]\n",
    "    if price == '0.0':\n",
    "        free_ios.append(app)\n",
    "        \n",
    "print(\"Number of free IOS apps:\",len(free_ios))\n",
    "\n",
    "for app in new_android:\n",
    "    price = app[7]\n",
    "    if price == '0':\n",
    "        free_android.append(app)\n",
    "\n",
    "print(\"Number of free Android apps:\",len(free_android))"
   ]
  },
  {
   "cell_type": "markdown",
   "metadata": {},
   "source": [
    "After isolating the free apps in the datasets, our data of interest now contains just 3222 IOS apps and 8864 Android apps. \n",
    "\n"
   ]
  },
  {
   "cell_type": "markdown",
   "metadata": {},
   "source": [
    "# Strategy\n",
    "\n",
    "Our strategy for app ideas comprise of the following three steps.\n",
    "\n",
    "1. Build a basic Android version of the app and add it to Google Play store. <br>\n",
    "2. If the app receives good ratings/response from users, we will develop it further. <br>\n",
    "3. If the app becomes profitable after a 6 month period, we proceed on an IOS version and add it to the App Store.\n",
    "\n",
    "\n",
    "Since our goal is to make apps that are available on both Android and IOS platforms, we need to sift through our data sets and find profiles of apps that are succesful on both markets. This would give us the best idea of the type of apps that could find success."
   ]
  },
  {
   "cell_type": "markdown",
   "metadata": {},
   "source": [
    "After inspecting both data sets, we think the best approach is to generate frequency tables for the **prime_genre** column of the IOS dataset and **Category** and **Genre** columns of the Android dataset."
   ]
  },
  {
   "cell_type": "code",
   "execution_count": 22,
   "metadata": {
    "collapsed": false
   },
   "outputs": [
    {
     "name": "stdout",
     "output_type": "stream",
     "text": [
      "Below is the frequency table for the prime_genre\n",
      "column.\n",
      "\n",
      "Games : 58.16263190564867\n",
      "Entertainment : 7.883302296710118\n",
      "Photo & Video : 4.9658597144630665\n",
      "Education : 3.662321539416512\n",
      "Social Networking : 3.2898820608317814\n",
      "Shopping : 2.60707635009311\n",
      "Utilities : 2.5139664804469275\n",
      "Sports : 2.1415270018621975\n",
      "Music : 2.0484171322160147\n",
      "Health & Fitness : 2.0173805090006205\n",
      "Productivity : 1.7380509000620732\n",
      "Lifestyle : 1.5828677839851024\n",
      "News : 1.3345747982619491\n",
      "Travel : 1.2414649286157666\n",
      "Finance : 1.1173184357541899\n",
      "Weather : 0.8690254500310366\n",
      "Food & Drink : 0.8069522036002483\n",
      "Reference : 0.5586592178770949\n",
      "Business : 0.5276225946617008\n",
      "Book : 0.4345127250155183\n",
      "Navigation : 0.186219739292365\n",
      "Medical : 0.186219739292365\n",
      "Catalogs : 0.12414649286157665\n",
      "\n",
      "\n",
      "Below is the frequency table for the Genre column \n",
      "\n",
      "Tools : 8.449909747292418\n",
      "Entertainment : 6.069494584837545\n",
      "Education : 5.347472924187725\n",
      "Business : 4.591606498194946\n",
      "Productivity : 3.892148014440433\n",
      "Lifestyle : 3.892148014440433\n",
      "Finance : 3.7003610108303246\n",
      "Medical : 3.531137184115524\n",
      "Sports : 3.463447653429603\n",
      "Personalization : 3.3167870036101084\n",
      "Communication : 3.2378158844765346\n",
      "Action : 3.1024368231046933\n",
      "Health & Fitness : 3.0798736462093865\n",
      "Photography : 2.944494584837545\n",
      "News & Magazines : 2.7978339350180503\n",
      "Social : 2.6624548736462095\n",
      "Travel & Local : 2.3240072202166067\n",
      "Shopping : 2.2450361010830324\n",
      "Books & Reference : 2.1435018050541514\n",
      "Simulation : 2.0419675090252705\n",
      "Dating : 1.861462093862816\n",
      "Arcade : 1.8501805054151623\n",
      "Video Players & Editors : 1.7712093862815883\n",
      "Casual : 1.7599277978339352\n",
      "Maps & Navigation : 1.3989169675090252\n",
      "Food & Drink : 1.2409747292418771\n",
      "Puzzle : 1.128158844765343\n",
      "Racing : 0.9927797833935018\n",
      "Role Playing : 0.9363718411552346\n",
      "Libraries & Demo : 0.9363718411552346\n",
      "Auto & Vehicles : 0.9250902527075812\n",
      "Strategy : 0.9138086642599278\n",
      "House & Home : 0.8235559566787004\n",
      "Weather : 0.8009927797833934\n",
      "Events : 0.7107400722021661\n",
      "Adventure : 0.6768953068592057\n",
      "Comics : 0.6092057761732852\n",
      "Beauty : 0.5979241877256317\n",
      "Art & Design : 0.5979241877256317\n",
      "Parenting : 0.4963898916967509\n",
      "Card : 0.45126353790613716\n",
      "Casino : 0.42870036101083037\n",
      "Trivia : 0.41741877256317694\n",
      "Educational;Education : 0.39485559566787\n",
      "Board : 0.3835740072202166\n",
      "Educational : 0.3722924187725632\n",
      "Education;Education : 0.33844765342960287\n",
      "Word : 0.2594765342960289\n",
      "Casual;Pretend Play : 0.236913357400722\n",
      "Music : 0.2030685920577617\n",
      "Racing;Action & Adventure : 0.16922382671480143\n",
      "Puzzle;Brain Games : 0.16922382671480143\n",
      "Entertainment;Music & Video : 0.16922382671480143\n",
      "Casual;Brain Games : 0.13537906137184114\n",
      "Casual;Action & Adventure : 0.13537906137184114\n",
      "Arcade;Action & Adventure : 0.12409747292418773\n",
      "Action;Action & Adventure : 0.10153429602888085\n",
      "Educational;Pretend Play : 0.09025270758122744\n",
      "Simulation;Action & Adventure : 0.078971119133574\n",
      "Parenting;Education : 0.078971119133574\n",
      "Entertainment;Brain Games : 0.078971119133574\n",
      "Board;Brain Games : 0.078971119133574\n",
      "Parenting;Music & Video : 0.06768953068592057\n",
      "Educational;Brain Games : 0.06768953068592057\n",
      "Casual;Creativity : 0.06768953068592057\n",
      "Art & Design;Creativity : 0.06768953068592057\n",
      "Education;Pretend Play : 0.056407942238267145\n",
      "Role Playing;Pretend Play : 0.04512635379061372\n",
      "Education;Creativity : 0.04512635379061372\n",
      "Role Playing;Action & Adventure : 0.033844765342960284\n",
      "Puzzle;Action & Adventure : 0.033844765342960284\n",
      "Entertainment;Creativity : 0.033844765342960284\n",
      "Entertainment;Action & Adventure : 0.033844765342960284\n",
      "Educational;Creativity : 0.033844765342960284\n",
      "Educational;Action & Adventure : 0.033844765342960284\n",
      "Education;Music & Video : 0.033844765342960284\n",
      "Education;Brain Games : 0.033844765342960284\n",
      "Education;Action & Adventure : 0.033844765342960284\n",
      "Adventure;Action & Adventure : 0.033844765342960284\n",
      "Video Players & Editors;Music & Video : 0.02256317689530686\n",
      "Sports;Action & Adventure : 0.02256317689530686\n",
      "Simulation;Pretend Play : 0.02256317689530686\n",
      "Puzzle;Creativity : 0.02256317689530686\n",
      "Music;Music & Video : 0.02256317689530686\n",
      "Entertainment;Pretend Play : 0.02256317689530686\n",
      "Casual;Education : 0.02256317689530686\n",
      "Board;Action & Adventure : 0.02256317689530686\n",
      "Video Players & Editors;Creativity : 0.01128158844765343\n",
      "Trivia;Education : 0.01128158844765343\n",
      "Travel & Local;Action & Adventure : 0.01128158844765343\n",
      "Tools;Education : 0.01128158844765343\n",
      "Strategy;Education : 0.01128158844765343\n",
      "Strategy;Creativity : 0.01128158844765343\n",
      "Strategy;Action & Adventure : 0.01128158844765343\n",
      "Simulation;Education : 0.01128158844765343\n",
      "Role Playing;Brain Games : 0.01128158844765343\n",
      "Racing;Pretend Play : 0.01128158844765343\n",
      "Puzzle;Education : 0.01128158844765343\n",
      "Parenting;Brain Games : 0.01128158844765343\n",
      "Music & Audio;Music & Video : 0.01128158844765343\n",
      "Lifestyle;Pretend Play : 0.01128158844765343\n",
      "Lifestyle;Education : 0.01128158844765343\n",
      "Health & Fitness;Education : 0.01128158844765343\n",
      "Health & Fitness;Action & Adventure : 0.01128158844765343\n",
      "Entertainment;Education : 0.01128158844765343\n",
      "Communication;Creativity : 0.01128158844765343\n",
      "Comics;Creativity : 0.01128158844765343\n",
      "Casual;Music & Video : 0.01128158844765343\n",
      "Card;Action & Adventure : 0.01128158844765343\n",
      "Books & Reference;Education : 0.01128158844765343\n",
      "Art & Design;Pretend Play : 0.01128158844765343\n",
      "Art & Design;Action & Adventure : 0.01128158844765343\n",
      "Arcade;Pretend Play : 0.01128158844765343\n",
      "Adventure;Education : 0.01128158844765343\n",
      "\n",
      "\n",
      "Below is the frequency table for the Category column \n",
      "\n",
      "FAMILY : 18.907942238267147\n",
      "GAME : 9.724729241877256\n",
      "TOOLS : 8.461191335740072\n",
      "BUSINESS : 4.591606498194946\n",
      "LIFESTYLE : 3.9034296028880866\n",
      "PRODUCTIVITY : 3.892148014440433\n",
      "FINANCE : 3.7003610108303246\n",
      "MEDICAL : 3.531137184115524\n",
      "SPORTS : 3.395758122743682\n",
      "PERSONALIZATION : 3.3167870036101084\n",
      "COMMUNICATION : 3.2378158844765346\n",
      "HEALTH_AND_FITNESS : 3.0798736462093865\n",
      "PHOTOGRAPHY : 2.944494584837545\n",
      "NEWS_AND_MAGAZINES : 2.7978339350180503\n",
      "SOCIAL : 2.6624548736462095\n",
      "TRAVEL_AND_LOCAL : 2.33528880866426\n",
      "SHOPPING : 2.2450361010830324\n",
      "BOOKS_AND_REFERENCE : 2.1435018050541514\n",
      "DATING : 1.861462093862816\n",
      "VIDEO_PLAYERS : 1.7937725631768955\n",
      "MAPS_AND_NAVIGATION : 1.3989169675090252\n",
      "FOOD_AND_DRINK : 1.2409747292418771\n",
      "EDUCATION : 1.1620036101083033\n",
      "ENTERTAINMENT : 0.9589350180505415\n",
      "LIBRARIES_AND_DEMO : 0.9363718411552346\n",
      "AUTO_AND_VEHICLES : 0.9250902527075812\n",
      "HOUSE_AND_HOME : 0.8235559566787004\n",
      "WEATHER : 0.8009927797833934\n",
      "EVENTS : 0.7107400722021661\n",
      "PARENTING : 0.6543321299638989\n",
      "ART_AND_DESIGN : 0.6430505415162455\n",
      "COMICS : 0.6204873646209386\n",
      "BEAUTY : 0.5979241877256317\n"
     ]
    }
   ],
   "source": [
    "def freq_table(dataset, index):\n",
    "    dictionary = {}\n",
    "    dictionary_as_a_percent = {}\n",
    "    for app in dataset:\n",
    "        value = app[index]\n",
    "        if value in dictionary:\n",
    "            dictionary[value] += 1\n",
    "        else: \n",
    "            dictionary[value] = 1\n",
    "    \n",
    "    for key in dictionary:\n",
    "        percent = (dictionary[key]/len(dataset)) * 100\n",
    "        dictionary_as_a_percent[key] = percent\n",
    "    return dictionary_as_a_percent\n",
    "\n",
    "\n",
    "        \n",
    "def display_table(dataset, index):\n",
    "    table = freq_table(dataset, index)\n",
    "    table_display = []\n",
    "    for key in table:\n",
    "        key_val_as_tuple = (table[key], key)\n",
    "        table_display.append(key_val_as_tuple)\n",
    "\n",
    "    table_sorted = sorted(table_display, reverse = True)\n",
    "    for entry in table_sorted:\n",
    "        print(entry[1], ':', entry[0])\n",
    "        \n",
    "\n",
    "print(\"Below is the frequency table for the prime_genre\\ncolumn.\\n\")\n",
    "display_table(free_ios, 11)   # The index number for prime_genre column is 11 in IOS dataset.\n",
    "\n",
    "print(\"\\n\")\n",
    "\n",
    "print(\"Below is the frequency table for the Genre column \\n\")\n",
    "display_table(free_android, 9) # The index number for Genre column is 9 in Android dataset\n",
    "\n",
    "print(\"\\n\")\n",
    "\n",
    "print(\"Below is the frequency table for the Category column \\n\")\n",
    "display_table(free_android, 1) # The index number for the Category column is 1 in Android dataset.\n",
    "\n",
    "    "
   ]
  },
  {
   "cell_type": "markdown",
   "metadata": {},
   "source": [
    "Examining the results of the frequency tables:\n",
    "\n",
    "* It appears that the most common genre of the App Store dataset is the **Games** genre by a landslide with the runner-up being the **Entertainment** genre. <br>\n",
    "\n",
    "\n",
    "* The pattern seems to be that the genres relating to entertainment **(Games, Entertainment, Photo and Video, Social Network, etc)** are the most popular while practical apps **(Education, Lifestyle, Finance, Shopping, Productivity, etc)** are less popular. <br>\n",
    "\n",
    "\n",
    "* The most popular Genre of the Google Play store dataset is **Tools** with **Entertainment** coming in second. However there is much less of a difference between the percentages than as was the case with the IOS genres. <br>\n",
    "\n",
    "\n",
    "* From the **Category** table, it appears that **Game** is still common, similar with the App Store data. Hence it would be safe to say that making a game would have the highest potential. <br>\n",
    "\n",
    "\n",
    "* However, notice that the most common genres also mean higher competition as there are more alternatives available for users to pursue. On the other hand the least common genres, although suggest a lack of users, could also imply the opportunity to capture a high market share due to a lack of apps in those genres. <br>\n",
    "\n",
    "\n",
    "\n",
    "\n",
    "\n"
   ]
  },
  {
   "cell_type": "markdown",
   "metadata": {},
   "source": [
    "# Average Number of Ratings Per Genre in App Store\n",
    "\n",
    "We now move ahead and find out the average number of ratings per genre. To do this, we add up the number of ratings for each app in a specific genre and then divide that sum by the number of apps in that genre.\n",
    "\n",
    "As a hypothetical example, say we have a genre called **Gummy Bears** which has a total of 4 apps: **Blue**, **Green**, **Red** and **Yellow**. Furthermore let's say the number of ratings for each apps are 25, 19, 59, and 7 respectively. \n",
    "\n",
    "Then, the average number of ratings would be (25+19+59+7)/4 = 27.5\n",
    "\n",
    "\n",
    "For our project, we first use the **freq_table** function to obtain all the genres and save it to a variable called **apple_genre**. \n",
    "\n",
    "Then for each genre in **apple_genre**, we loop through the entire **free_ios** dataset and everytime the genre in the **free_ios** dataset is the same as the **apple_genre**, we will add the **total_rating_count** of that app to a variable called **total**. We also increment the **len_genre** by 1. At the end of the loop, we will print out the average number of ratings for each genre, which is **total/len_genre**, where **total** will contain the total number of ratings in the genre and **len_genre** will contain the number of apps in the genre.\n",
    "\n",
    "We then repeat with the second genre in apple_genre until all genres are looped through and the average number of ratings for each genre is determined.  "
   ]
  },
  {
   "cell_type": "code",
   "execution_count": 23,
   "metadata": {
    "collapsed": false,
    "scrolled": true
   },
   "outputs": [
    {
     "name": "stdout",
     "output_type": "stream",
     "text": [
      "Lifestyle : 16485.764705882353\n",
      "Productivity : 21028.410714285714\n",
      "Medical : 612.0\n",
      "News : 21248.023255813954\n",
      "Shopping : 26919.690476190477\n",
      "Business : 7491.117647058823\n",
      "Education : 7003.983050847458\n",
      "Photo & Video : 28441.54375\n",
      "Book : 39758.5\n",
      "Entertainment : 14029.830708661417\n",
      "Travel : 28243.8\n",
      "Finance : 31467.944444444445\n",
      "Music : 57326.530303030304\n",
      "Food & Drink : 33333.92307692308\n",
      "Reference : 74942.11111111111\n",
      "Utilities : 18684.456790123455\n",
      "Health & Fitness : 23298.015384615384\n",
      "Sports : 23008.898550724636\n",
      "Games : 22788.6696905016\n",
      "Social Networking : 71548.34905660378\n",
      "Catalogs : 4004.0\n",
      "Weather : 52279.892857142855\n",
      "Navigation : 86090.33333333333\n"
     ]
    }
   ],
   "source": [
    "apple_genre = freq_table(free_ios, 11)\n",
    "\n",
    "for genre in apple_genre:\n",
    "    total = 0\n",
    "    len_genre = 0\n",
    "    for app in free_ios:\n",
    "        genre_app = app[11]\n",
    "        if genre_app == genre:\n",
    "            number_ratings = float(app[5])\n",
    "            total = total + number_ratings\n",
    "            len_genre += 1\n",
    "    \n",
    "    average_number_ratings = total / len_genre\n",
    "    print(genre, ':', average_number_ratings)\n",
    "    "
   ]
  },
  {
   "cell_type": "markdown",
   "metadata": {},
   "source": [
    "We can see that Social Networking has an average of 71548 ratings. With further analysis we can determine that the majority of the ratings are dominated by the social media giants like Facebook and Pinterest, both having more than 1,000,000 total ratings."
   ]
  },
  {
   "cell_type": "code",
   "execution_count": 27,
   "metadata": {
    "collapsed": false,
    "scrolled": false
   },
   "outputs": [
    {
     "name": "stdout",
     "output_type": "stream",
     "text": [
      "Facebook : 2974676\n",
      "Pinterest : 1061624\n",
      "Skype for iPhone : 373519\n",
      "Messenger : 351466\n",
      "Tumblr : 334293\n",
      "WhatsApp Messenger : 287589\n",
      "Kik : 260965\n",
      "ooVoo – Free Video Call, Text and Voice : 177501\n",
      "TextNow - Unlimited Text + Calls : 164963\n",
      "Viber Messenger – Text & Call : 164249\n",
      "Followers - Social Analytics For Instagram : 112778\n",
      "MeetMe - Chat and Meet New People : 97072\n",
      "We Heart It - Fashion, wallpapers, quotes, tattoos : 90414\n",
      "InsTrack for Instagram - Analytics Plus More : 85535\n",
      "Tango - Free Video Call, Voice and Chat : 75412\n",
      "LinkedIn : 71856\n",
      "Match™ - #1 Dating App. : 60659\n",
      "Skype for iPad : 60163\n",
      "POF - Best Dating App for Conversations : 52642\n",
      "Timehop : 49510\n",
      "Find My Family, Friends & iPhone - Life360 Locator : 43877\n",
      "Whisper - Share, Express, Meet : 39819\n",
      "Hangouts : 36404\n",
      "LINE PLAY - Your Avatar World : 34677\n",
      "WeChat : 34584\n",
      "Badoo - Meet New People, Chat, Socialize. : 34428\n",
      "Followers + for Instagram - Follower Analytics : 28633\n",
      "GroupMe : 28260\n",
      "Marco Polo Video Walkie Talkie : 27662\n",
      "Miitomo : 23965\n",
      "SimSimi : 23530\n",
      "Grindr - Gay and same sex guys chat, meet and date : 23201\n",
      "Wishbone - Compare Anything : 20649\n",
      "imo video calls and chat : 18841\n",
      "After School - Funny Anonymous School News : 18482\n",
      "Quick Reposter - Repost, Regram and Reshare Photos : 17694\n",
      "Weibo HD : 16772\n",
      "Repost for Instagram : 15185\n",
      "Live.me – Live Video Chat & Make Friends Nearby : 14724\n",
      "Nextdoor : 14402\n",
      "Followers Analytics for Instagram - InstaReport : 13914\n",
      "YouNow: Live Stream Video Chat : 12079\n",
      "FollowMeter for Instagram - Followers Tracking : 11976\n",
      "LINE : 11437\n",
      "eHarmony™ Dating App - Meet Singles : 11124\n",
      "Discord - Chat for Gamers : 9152\n",
      "QQ : 9109\n",
      "Telegram Messenger : 7573\n",
      "Weibo : 7265\n",
      "Periscope - Live Video Streaming Around the World : 6062\n",
      "Chat for Whatsapp - iPad Version : 5060\n",
      "QQ HD : 5058\n",
      "Followers Analysis Tool For Instagram App Free : 4253\n",
      "live.ly - live video streaming : 4145\n",
      "Houseparty - Group Video Chat : 3991\n",
      "SOMA Messenger : 3232\n",
      "Monkey : 3060\n",
      "Down To Lunch : 2535\n",
      "Flinch - Video Chat Staring Contest : 2134\n",
      "Highrise - Your Avatar Community : 2011\n",
      "LOVOO - Dating Chat : 1985\n",
      "PlayStation®Messages : 1918\n",
      "BOO! - Video chat camera with filters & stickers : 1805\n",
      "Qzone : 1649\n",
      "Chatous - Chat with new people : 1609\n",
      "Kiwi - Q&A : 1538\n",
      "GhostCodes - a discovery app for Snapchat : 1313\n",
      "Jodel : 1193\n",
      "FireChat : 1037\n",
      "Google Duo - simple video calling : 1033\n",
      "Fiesta by Tango - Chat & Meet New People : 885\n",
      "Google Allo — smart messaging : 862\n",
      "Peach — share vividly : 727\n",
      "Hey! VINA - Where Women Meet New Friends : 719\n",
      "Battlefield™ Companion : 689\n",
      "All Devices for WhatsApp - Messenger for iPad : 682\n",
      "Chat for Pokemon Go - GoChat : 500\n",
      "IAmNaughty – Dating App to Meet New People Online : 463\n",
      "Qzone HD : 458\n",
      "Zenly - Locate your friends in realtime : 427\n",
      "League of Legends Friends : 420\n",
      "豆瓣 : 407\n",
      "Candid - Speak Your Mind Freely : 398\n",
      "知乎 : 397\n",
      "Selfeo : 366\n",
      "Fake-A-Location Free ™ : 354\n",
      "Popcorn Buzz - Free Group Calls : 281\n",
      "Fam — Group video calling for iMessage : 279\n",
      "QQ International : 274\n",
      "Ameba : 269\n",
      "SoundCloud Pulse: for creators : 240\n",
      "Tantan : 235\n",
      "Cougar Dating & Life Style App for Mature Women : 213\n",
      "Rawr Messenger - Dab your chat : 180\n",
      "WhenToPost: Best Time to Post Photos for Instagram : 158\n",
      "Inke—Broadcast an amazing life : 147\n",
      "Mustknow - anonymous video Q&A : 53\n",
      "CTFxCmoji : 39\n",
      "Lobi : 36\n",
      "Chain: Collaborate On MyVideo Story/Group Video : 35\n",
      "botman - Real time video chat : 7\n",
      "BestieBox : 0\n",
      "MATCH ON LINE chat : 0\n",
      "niconico ch : 0\n",
      "LINE BLOG : 0\n",
      "bit-tube - Live Stream Video Chat : 0\n"
     ]
    }
   ],
   "source": [
    "for app in free_ios:\n",
    "    if app[11] == 'Social Networking':\n",
    "        print(app[1], ':', app[5])"
   ]
  },
  {
   "cell_type": "markdown",
   "metadata": {},
   "source": [
    "# Average Number of Installs per Category in Google Play Store\n",
    "\n",
    "For Android applications, we do not have a rating count column but we do have a column called **Installs** which should be a very helpful in determining which categories are most in demand. Therefore, we use the same approach as with the average rating count for IOS genres, in determining the average number of installs per Google Play Store category.\n",
    "\n",
    "One key difference in the code is that we cannot actually get the precise number of installs. For example, the number of installs in the Google Play dataset include **100,000+** , **1,000,000+**, **100,000,000+** and so on.\n",
    "\n",
    "Therefore in order to actually calculate the average number of installs, we need to replace the **'+'** and **','** with empty strings so we're able to convert the string into a float. Only after are we able to perform the average calculation.\n",
    "\n",
    "Furthermore, since 1,000,000+ does not equal 1,000,000 our average number of installs won't be accurate, but would still give us a reasonable value that we can compare for each category. "
   ]
  },
  {
   "cell_type": "code",
   "execution_count": 29,
   "metadata": {
    "collapsed": false,
    "scrolled": true
   },
   "outputs": [
    {
     "name": "stdout",
     "output_type": "stream",
     "text": [
      "SPORTS : 3638640.1428571427\n",
      "PRODUCTIVITY : 16787331.344927534\n",
      "PHOTOGRAPHY : 17840110.40229885\n",
      "AUTO_AND_VEHICLES : 647317.8170731707\n",
      "COMMUNICATION : 38456119.167247385\n",
      "MAPS_AND_NAVIGATION : 4056941.7741935486\n",
      "SOCIAL : 23253652.127118643\n",
      "EDUCATION : 1833495.145631068\n",
      "BUSINESS : 1712290.1474201474\n",
      "HEALTH_AND_FITNESS : 4188821.9853479853\n",
      "HOUSE_AND_HOME : 1331540.5616438356\n",
      "LIFESTYLE : 1437816.2687861272\n",
      "DATING : 854028.8303030303\n",
      "LIBRARIES_AND_DEMO : 638503.734939759\n",
      "PARENTING : 542603.6206896552\n",
      "WEATHER : 5074486.197183099\n",
      "TOOLS : 10801391.298666667\n",
      "TRAVEL_AND_LOCAL : 13984077.710144928\n",
      "ART_AND_DESIGN : 1986335.0877192982\n",
      "SHOPPING : 7036877.311557789\n",
      "NEWS_AND_MAGAZINES : 9549178.467741935\n",
      "MEDICAL : 120550.61980830671\n",
      "VIDEO_PLAYERS : 24727872.452830188\n",
      "FAMILY : 3695641.8198090694\n",
      "PERSONALIZATION : 5201482.6122448975\n",
      "EVENTS : 253542.22222222222\n",
      "BOOKS_AND_REFERENCE : 8767811.894736841\n",
      "COMICS : 817657.2727272727\n",
      "FINANCE : 1387692.475609756\n",
      "FOOD_AND_DRINK : 1924897.7363636363\n",
      "GAME : 15588015.603248259\n",
      "BEAUTY : 513151.88679245283\n",
      "ENTERTAINMENT : 11640705.88235294\n"
     ]
    }
   ],
   "source": [
    "android_category = freq_table(free_android, 1)\n",
    "\n",
    "for category in android_category:\n",
    "    total = 0\n",
    "    len_category = 0\n",
    "    for app in free_android:\n",
    "        category_app = app[1]\n",
    "        if category_app == category:\n",
    "            number_installs = app[5]\n",
    "            number_installs = number_installs.replace('+', '')\n",
    "            number_installs = number_installs.replace(',', '')\n",
    "            total += float(number_installs)\n",
    "            len_category += 1\n",
    "        \n",
    "    average_installs = total / len_category\n",
    "    print(category,':',average_installs)\n",
    "    "
   ]
  },
  {
   "cell_type": "markdown",
   "metadata": {},
   "source": [
    "Similar to what we did with the average number of ratings for the **Social Networking** genre in the **App Store**, we will do the same with the **Social** category in the **Google Play store**. \n",
    "\n"
   ]
  },
  {
   "cell_type": "code",
   "execution_count": 33,
   "metadata": {
    "collapsed": false,
    "scrolled": true
   },
   "outputs": [
    {
     "name": "stdout",
     "output_type": "stream",
     "text": [
      "Facebook : 1,000,000,000+\n",
      "Facebook Lite : 500,000,000+\n",
      "Tumblr : 100,000,000+\n",
      "Social network all in one 2018 : 100,000+\n",
      "Pinterest : 100,000,000+\n",
      "TextNow - free text + calls : 10,000,000+\n",
      "Google+ : 1,000,000,000+\n",
      "The Messenger App : 1,000,000+\n",
      "Messenger Pro : 1,000,000+\n",
      "Free Messages, Video, Chat,Text for Messenger Plus : 1,000,000+\n",
      "Telegram X : 5,000,000+\n",
      "The Video Messenger App : 100,000+\n",
      "Jodel - The Hyperlocal App : 1,000,000+\n",
      "Hide Something - Photo, Video : 5,000,000+\n",
      "Love Sticker : 1,000,000+\n",
      "Web Browser & Fast Explorer : 5,000,000+\n",
      "LiveMe - Video chat, new friends, and make money : 10,000,000+\n",
      "VidStatus app - Status Videos & Status Downloader : 5,000,000+\n",
      "Love Images : 1,000,000+\n",
      "Web Browser ( Fast & Secure Web Explorer) : 500,000+\n",
      "SPARK - Live random video chat & meet new people : 5,000,000+\n",
      "Golden telegram : 50,000+\n",
      "Facebook Local : 1,000,000+\n",
      "Meet – Talk to Strangers Using Random Video Chat : 5,000,000+\n",
      "MobilePatrol Public Safety App : 1,000,000+\n",
      "💘 WhatsLov: Smileys of love, stickers and GIF : 1,000,000+\n",
      "HTC Social Plugin - Facebook : 10,000,000+\n",
      "Quora : 10,000,000+\n",
      "Kate Mobile for VK : 10,000,000+\n",
      "Family GPS tracker KidControl + GPS by SMS Locator : 1,000,000+\n",
      "Moment : 1,000,000+\n",
      "Text Me: Text Free, Call Free, Second Phone Number : 10,000,000+\n",
      "Text Free: WiFi Calling App : 5,000,000+\n",
      "Badoo - Free Chat & Dating App : 100,000,000+\n",
      "Text free - Free Text + Call : 10,000,000+\n",
      "Tango - Live Video Broadcast : 100,000,000+\n",
      "ooVoo Video Calls, Messaging & Stories : 50,000,000+\n",
      "Whisper : 5,000,000+\n",
      "Blogger : 5,000,000+\n",
      "Bloglovin' : 500,000+\n",
      "Blogaway for Android (Blogger) : 100,000+\n",
      "Instagram : 1,000,000,000+\n",
      "TwitCasting Live : 1,000,000+\n",
      "Stream - Live Video Community : 500,000+\n",
      "YouNow: Live Stream Video Chat : 10,000,000+\n",
      "Mirrativ: Live Stream Any App : 500,000+\n",
      "Snapchat : 500,000,000+\n",
      "Banjo : 1,000,000+\n",
      "We Heart It : 10,000,000+\n",
      "MeetMe: Chat & Meet New People : 50,000,000+\n",
      "Timehop : 5,000,000+\n",
      "Frontback - Social Photos : 1,000,000+\n",
      "LinkedIn : 100,000,000+\n",
      "Path : 10,000,000+\n",
      "SayHi Chat, Meet New People : 10,000,000+\n",
      "Tapatalk - 100,000+ Forums : 10,000,000+\n",
      "Couple - Relationship App : 1,000,000+\n",
      "Nextdoor - Local neighborhood news & classifieds : 5,000,000+\n",
      "LOVOO : 10,000,000+\n",
      "Jaumo Dating, Flirt & Live Video : 10,000,000+\n",
      "Patook - make platonic friends : 100,000+\n",
      "Zello PTT Walkie Talkie : 50,000,000+\n",
      "textPlus: Free Text & Calls : 10,000,000+\n",
      "magicApp Calling & Messaging : 10,000,000+\n",
      "Dating App, Flirt & Chat : W-Match : 10,000,000+\n",
      "uCiC- Videos and Photos on demand : 100,000+\n",
      "Meetup : 5,000,000+\n",
      "POF Free Dating App : 50,000,000+\n",
      "Tagged - Meet, Chat & Dating : 10,000,000+\n",
      "SKOUT - Meet, Chat, Go Live : 50,000,000+\n",
      "Mico- Stranger Chat Random video Chat, Live, Meet : 10,000,000+\n",
      "Waplog - Free Chat, Dating App, Meet Singles : 10,000,000+\n",
      "Tik Tok - including musical.ly : 100,000,000+\n",
      "B-Messenger Video Chat : 1,000,000+\n",
      "BIGO LIVE - Live Stream : 100,000,000+\n",
      "Greeting Cards & Wishes : 500,000+\n",
      "Share G - Images Sharing - Wallpapers App : 10,000+\n",
      "H letter images : 1,000+\n",
      "Instachat 😜 : 5,000,000+\n",
      "Fame Boom for Real Followers, Likes : 5,000,000+\n",
      "FollowMeter for Instagram : 1,000,000+\n",
      "Mali J : 10,000+\n",
      "KDRAMA Amino for K-Drama Fans : 100,000+\n",
      "KPOP Amino for K-Pop Entertainment : 100,000+\n",
      "EXO-L Amino for EXO Fans : 50,000+\n",
      "Verdad o Reto : 500,000+\n",
      "pixiv : 1,000,000+\n",
      "Join R, Community Engagement : 1,000+\n",
      "U LIVE – Video Chat & Stream : 1,000,000+\n",
      "See U - Random video chat, video chat : 100,000+\n",
      "What U See : 100,000+\n",
      "U-Report : 10,000+\n",
      "Meet U - Get Friends for Snapchat, Kik & Instagram : 100,000+\n",
      "VMate Lite - Funny Short Videos Social Network : 1,000,000+\n",
      "V Bucks ProTips New : 1,000+\n",
      "i-share AF/KLM (AFKL ishare) : 100+\n",
      "Eternal Light AG : 100+\n",
      "Message AI - Write Better Messages (Free) : 100+\n",
      "Jamaa Amino for Animal Jam : 10,000+\n",
      "Legend - Animate Text in Video : 10,000,000+\n",
      "GUYZ - Gay Chat & Gay Dating : 1,000,000+\n",
      "eChallan Andhra Pradesh (AP) : 1,000+\n",
      "Snaappy – 3D fun AR core communication platform : 1,000,000+\n",
      "Undertale AU Amino : 50,000+\n",
      "Au Pair : 10,000+\n",
      "Media Sosial TNI AU : 1,000+\n",
      "BA 3 Banjarmasin : 10+\n",
      "iCard BD Plus : 500+\n",
      "Movement BE : 100+\n",
      "YAY - TBH : 100,000+\n",
      "Find My Friends : 10,000,000+\n",
      "BG LINKED (BGLINKED) : 1,000+\n",
      "Zdravei.BG : 1,000+\n",
      "BGKontakti London BG Kontakti : 500+\n",
      "BGKontakti Bayern BG Kontakti : 1,000+\n",
      "BGKontakti Vienna BG Kontakti : 1,000+\n",
      "Discípulos em BH : 100+\n",
      "BH Connect : 1+\n",
      "Gayvox - Gay Lesbian Bi Dating : 500,000+\n",
      "Grindr - Gay chat : 10,000,000+\n",
      "Lesbian Chat & Dating - SPICY : 1,000,000+\n",
      "Alumni BJ : 100+\n",
      "VK : 100,000,000+\n",
      "BK Traffic Control cum Chart : 10,000+\n",
      "Daily Murli Saar Widget : 10,000+\n",
      "Myjob@BM : 100+\n",
      "bm-Events : 10+\n",
      "BOO! - Next Generation Messenger : 1,000,000+\n",
      "Wishbone - Compare Anything : 1,000,000+\n",
      "BR Chat Bot : 1,000+\n",
      "Br Browser : 500+\n",
      "Dr B R Ambedkar (Jai Bhim) : 100,000+\n",
      "Dr. B.R.Ambedkar : 100,000+\n",
      "Black Social : 1,000+\n",
      "BT Communicator : 10,000+\n",
      "BT Dating -Find your match, help cupid, be social : 50,000+\n",
      "Fiesta by Tango - Find, Meet and Make New Friends : 1,000,000+\n",
      "Evasion.bz : 100+\n",
      "CB Heroes : 5+\n",
      "CG Districts : 1,000+\n",
      "Digi-TV.ch : 10,000+\n",
      "Students.ch : 1,000+\n",
      "CJ Gospel Hour : 100+\n",
      "Pekalongan CJ : 0+\n",
      "Hashtags For Likes.co : 50,000+\n",
      "CP Dialer : 50,000+\n",
      "C.P. CERVANTES (TOBARRA) : 5+\n",
      "Cyprus Police : 10,000+\n",
      "Rande.cz : 50,000+\n",
      "signály.cz : 1,000+\n",
      "DB Event App : 5,000+\n",
      "DC Comics Amino : 1,000+\n",
      "DF BugMeNot : 500+\n",
      "Noticias DF : 1,000+\n",
      "Periscope - Live Video : 10,000,000+\n",
      "Daddyhunt: Gay Dating : 500,000+\n",
      "Free phone calls, free texting SMS on free number : 10,000,000+\n",
      "Phone Tracker : Family Locator : 10,000,000+\n",
      "HOLLA Live: Meet New People via Random Video Chat : 5,000,000+\n",
      "Dating.dk : 100,000+\n",
      "DK Murali : 500+\n",
      "GirlTalk.dk : 100+\n",
      "+Download 4 Instagram Twitter : 1,000,000+\n",
      "DM Me - Chat : 10,000+\n",
      "DM for IG 😘 - Image & Video Saver for Instagram : 5,000+\n",
      "Auto DM for Twitter 🔥 : 1,000+\n",
      "DM Storage (for twitter) : 100+\n",
      "Fake Chat (Direct Message) : 500,000+\n",
      "Otto DM : 10+\n",
      "DN Blog : 10+\n",
      "DP and Status for WhatsApp 2018 : 100,000+\n",
      "Dp For Whatsapp : 5,000+\n",
      "Profile Pictures and DP for Whatsapp : 5,000+\n",
      "Dp for Facebook : 5,000+\n",
      "Best DP and Status : 10,000+\n",
      "Instant DP Downloader for Instagram : 5,000+\n",
      "DP Display Pictures Life Quotes Motivational GM : 5,000+\n",
      "Qeek for Instagram - Zoom profile insta DP : 500,000+\n",
      "DV Statistics : 100+\n",
      "DW Streaming : 1,000+\n",
      "News Dz : 10+\n",
      "quran-DZ : 10+\n",
      "TN e Sevai TN EB Bill Patta Citta EC Birth All Hub : 5,000+\n",
      "TNEB Bill Online Payment (Tamil) : 5,000+\n",
      "UP EB Bill Payment & Details : 50+\n",
      "TN EC Online New : 1,000+\n",
      "TN Patta /Chitta /EC New : 100+\n",
      "EG Way Life : 50+\n",
      "Equestria Amino for MLP : 50,000+\n",
      "Ek Maratha : 10,000+\n",
      "Hum Ek Hain 2.02 : 10+\n",
      "Sabka Malik Ek Sai : 1,000+\n",
      "EO RAIPUR : 10+\n",
      "Anime et Manga Amino en Français : 50,000+\n",
      "Hornet - Gay Social Network : 5,000,000+\n",
      "Amino: Communities and Chats : 10,000,000+\n",
      "European Solidarity Corps : 1,000+\n",
      "Reisedealz.eu : 10+\n",
      "Eddsworld Amino : 10,000+\n",
      "Rejoin Your Ex : 100+\n",
      "Amleen Ey : 1+\n",
      "Coupe Adhémar EY 2017 : 50+\n",
      "EZ Video Download for Facebook : 1,000,000+\n",
      "Messages, Text and Video Chat for Messenger : 10,000,000+\n",
      "All Social Networks : 1,000,000+\n",
      "Messenger Messenger : 10,000,000+\n",
      "Facebook Creator : 1,000,000+\n",
      "Swift for Facebook Lite : 500,000+\n",
      "Friendly for Facebook : 1,000,000+\n",
      "Faster for Facebook Lite : 1,000,000+\n",
      "Puffin for Facebook : 500,000+\n",
      "Profile Tracker - Who Viewed My Facebook Profile : 500,000+\n",
      "Pink Color for Facebook : 500,000+\n",
      "Messenger : 10,000,000+\n",
      "Stickers for Imo, fb, whatsapp : 10,000+\n",
      "Who Viewed My Facebook Profile - Stalkers Visitors : 5,000,000+\n",
      "Downloader plus for FB : 500+\n",
      "MB Notifications for FB (Free) : 100,000+\n",
      "Phoenix - Facebook & Messenger : 100,000+\n",
      "Faster Social for Facebook : 100,000+\n",
      "Check Your Visitors on FB ? : 5,000+\n",
      "Stickers for Facebook : 1,000,000+\n",
      "Lite Messenger for Facebook Lite : 10,000+\n",
      "Mini for Facebook lite : 10,000+\n",
      "FB Advanced Search : 50+\n",
      "funny Image Comments for FB : 5,000+\n",
      "Unlimited Group Links - Whatsapp, FB, Telegram : 10,000+\n",
      "FCB Connect - FC Barcelona : 50,000+\n",
      "Frases Cristianas de Esperanza y Fe : 100+\n",
      "FutureNet your social app : 100,000+\n",
      "Alarm.fo – choose your info : 1,000+\n",
      "FunForMobile Ringtones & Chat : 5,000,000+\n",
      "Chat For Strangers - Video Chat : 100,000+\n",
      "Fr Daoud Lamei : 100,000+\n",
      "Naruto & Boruto FR : 100+\n",
      "Frim: get new friends on local chat rooms : 5,000,000+\n"
     ]
    }
   ],
   "source": [
    "for app in free_android:\n",
    "    if app[1] == 'SOCIAL':\n",
    "        print(app[0], ':', app[5])"
   ]
  },
  {
   "cell_type": "markdown",
   "metadata": {},
   "source": [
    "As you can see, Facebook and Facebook Lite combined have over 1.5 billion installs meanwhile third place Tumblr have over 100,000,000 installs. Similar to what we saw with the Social Networking genre in the App Store, Facebook skews the average number of installs for the Google Play Store **'SOCIAL'** category as well."
   ]
  },
  {
   "cell_type": "markdown",
   "metadata": {
    "collapsed": true
   },
   "source": [
    "# Final Decision\n",
    "\n",
    "After taking a closer look at both the App Store average number of ratings and the Google Play store average number of installs, I've come up with two suggestions for our company. Since we're hoping for success on both platforms, I wanted to determine the genres/categories that will have both a high number of ratings from the App Store, as well as a high number of installs from the Google Play Store.\n",
    "\n",
    "\n",
    "If we examine the average number of ratings data carefully, we notice the top 3 being: **Navigation**, **Social Networking**, and **Reference**.\n",
    "\n",
    "**Social** is also a category with a large number of average installs from the Google Play store. However, realizing that giants like Facebook have a large market share, could make things extremely difficult for newcomers getting into the niche. This is why I would advise not to make apps that fit into the social / social networking genre.\n",
    "\n",
    "With that being said, both **Navigation** and **Books Reference** categories have a decent average number of installs and would be more realistic to capture an audience in one of these categories as there aren't any obvious giants for alternatives. \n",
    "\n",
    "I would advise our company to make an app geared towards Books and reference, as there's only so much variability you can achieve with Navigation apps. \n",
    "\n",
    "I would say the best course of action in this regard, is to make an app that is based off a book, comic or manga, and which includes a couple of features for example:\n",
    "\n",
    "* characters and their personality/description\n",
    "* map of the setting\n",
    "* jigsaw puzzles\n",
    "* book quizzes\n",
    "* book slang \n",
    "* book discussion forum\n",
    "* chapter summaries\n",
    "* option to allow people to write their own chapter and share with others.\n",
    "\n",
    "If the app becomes successful, and the book popular, we can potentially move into the gaming sector and do something like **\"Pokemon Go\"**,  allowing a free to play game that is based off the book we're referencing, but also give the opportunity for in app purchases which boosts the potential for profitability."
   ]
  }
 ],
 "metadata": {
  "kernelspec": {
   "display_name": "Python 3",
   "language": "python",
   "name": "python3"
  },
  "language_info": {
   "codemirror_mode": {
    "name": "ipython",
    "version": 3
   },
   "file_extension": ".py",
   "mimetype": "text/x-python",
   "name": "python",
   "nbconvert_exporter": "python",
   "pygments_lexer": "ipython3",
   "version": "3.4.3"
  }
 },
 "nbformat": 4,
 "nbformat_minor": 2
}
